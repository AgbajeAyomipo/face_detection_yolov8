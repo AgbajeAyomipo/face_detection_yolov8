{
 "cells": [
  {
   "cell_type": "code",
   "execution_count": 5,
   "metadata": {},
   "outputs": [],
   "source": [
    "import cv2\n",
    "from ultralytics import YOLO\n",
    "import os"
   ]
  },
  {
   "cell_type": "code",
   "execution_count": 6,
   "metadata": {},
   "outputs": [
    {
     "data": {
      "text/plain": [
       "'c:\\\\Users\\\\Ayo Agbaje\\\\Documents\\\\Code\\\\Python\\\\GIGS\\\\PYTHON_docs\\\\py_files\\\\face_detection'"
      ]
     },
     "execution_count": 6,
     "metadata": {},
     "output_type": "execute_result"
    }
   ],
   "source": [
    "pwd"
   ]
  },
  {
   "cell_type": "code",
   "execution_count": 7,
   "metadata": {},
   "outputs": [],
   "source": [
    "model = YOLO('runs/detect/train/weights/best.pt')"
   ]
  },
  {
   "cell_type": "code",
   "execution_count": 8,
   "metadata": {},
   "outputs": [
    {
     "name": "stderr",
     "output_type": "stream",
     "text": [
      "\u001b[31m\u001b[1mrequirements:\u001b[0m Ultralytics requirement \"lapx>=0.5.2\" not found, attempting AutoUpdate...\n"
     ]
    }
   ],
   "source": [
    "results = model.track(source = 'test/video/roller_coaster (720p).mp4', save = True, conf = .6, show = True, tracker=\"bytetrack.yaml\")"
   ]
  },
  {
   "cell_type": "code",
   "execution_count": 9,
   "metadata": {},
   "outputs": [
    {
     "name": "stdout",
     "output_type": "stream",
     "text": [
      "Help on built-in function waitKey:\n",
      "\n",
      "waitKey(...)\n",
      "    waitKey([, delay]) -> retval\n",
      "    .   @brief Waits for a pressed key.\n",
      "    .   \n",
      "    .   The function waitKey waits for a key event infinitely (when \\f$\\texttt{delay}\\leq 0\\f$ ) or for delay\n",
      "    .   milliseconds, when it is positive. Since the OS has a minimum time between switching threads, the\n",
      "    .   function will not wait exactly delay ms, it will wait at least delay ms, depending on what else is\n",
      "    .   running on your computer at that time. It returns the code of the pressed key or -1 if no key was\n",
      "    .   pressed before the specified time had elapsed. To check for a key press but not wait for it, use\n",
      "    .   #pollKey.\n",
      "    .   \n",
      "    .   @note The functions #waitKey and #pollKey are the only methods in HighGUI that can fetch and handle\n",
      "    .   GUI events, so one of them needs to be called periodically for normal event processing unless\n",
      "    .   HighGUI is used within an environment that takes care of event processing.\n",
      "    .   \n",
      "    .   @note The function only works if there is at least one HighGUI window created and the window is\n",
      "    .   active. If there are several HighGUI windows, any of them can be active.\n",
      "    .   \n",
      "    .   @param delay Delay in milliseconds. 0 is the special value that means \"forever\".\n",
      "\n"
     ]
    }
   ],
   "source": [
    "results = model.track(source = '/content/drive/MyDrive/face_detection/roller_coaster (720p).mp4', save = True, conf = .6, show = True, tracker=\"bytetrack.yaml\", persist = True)\n",
    "\n",
    "import supervision as sv\n",
    "\n",
    "box_annotator = sv.BoxAnnotator(\n",
    "    thickness = 2,\n",
    "    text_thickness = 1.5,\n",
    "    text_scale = .5\n",
    ")\n",
    "\n",
    "for result in results:\n",
    "  frame = result.orig_img\n",
    "  detections = sv.detections.from_yolov8(result)\n",
    "  frame = box_annotator.annotate(scene = frame, detections = detections)\n",
    "\n",
    "  cv2.imshow('yolov8', frame)\n",
    "  if cv2.waitKey(30) == 27:\n",
    "    break"
   ]
  },
  {
   "cell_type": "code",
   "execution_count": null,
   "metadata": {},
   "outputs": [],
   "source": []
  }
 ],
 "metadata": {
  "kernelspec": {
   "display_name": "my_venv_",
   "language": "python",
   "name": "python3"
  },
  "language_info": {
   "codemirror_mode": {
    "name": "ipython",
    "version": 3
   },
   "file_extension": ".py",
   "mimetype": "text/x-python",
   "name": "python",
   "nbconvert_exporter": "python",
   "pygments_lexer": "ipython3",
   "version": "3.10.5"
  },
  "orig_nbformat": 4
 },
 "nbformat": 4,
 "nbformat_minor": 2
}
